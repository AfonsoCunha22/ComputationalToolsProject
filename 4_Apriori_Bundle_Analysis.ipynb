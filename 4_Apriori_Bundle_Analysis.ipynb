{
 "cells": [
  {
   "cell_type": "markdown",
   "metadata": {},
   "source": [
    "# Market Based Model - Bundle Recommendation"
   ]
  },
  {
   "cell_type": "markdown",
   "metadata": {},
   "source": [
    "The objective of this notebook is to analyse the possibility of creating possible recommendations based on popular items and existing recipes by matching the about-to-expire products from a specific cluster to our dataset of recipes. This process is conducted on a per-cluster basis, representing each food bank individually. As a result, each food bank receives tailored recommendations based on the items nearing expiration within its cluster and the predefined threshold criteria.\n",
    "\n",
    "To ensure clarity and facilitate understanding, we have included detailed comments throughout the notebook, explaining the steps and decisions made at each stage."
   ]
  },
  {
   "cell_type": "markdown",
   "metadata": {},
   "source": [
    "## Dependencies"
   ]
  },
  {
   "cell_type": "code",
   "execution_count": 1,
   "metadata": {},
   "outputs": [],
   "source": [
    "import pandas as pd\n",
    "import matplotlib.pyplot as plt\n",
    "from mlxtend.preprocessing import TransactionEncoder\n",
    "from mlxtend.frequent_patterns import apriori, association_rules\n",
    "from nltk.stem import WordNetLemmatizer\n",
    "from nltk.corpus import stopwords\n",
    "import nltk\n",
    "import re\n",
    "import networkx as nx"
   ]
  },
  {
   "cell_type": "markdown",
   "metadata": {},
   "source": [
    "## Importing and Loading data"
   ]
  },
  {
   "cell_type": "code",
   "execution_count": 2,
   "metadata": {},
   "outputs": [
    {
     "name": "stderr",
     "output_type": "stream",
     "text": [
      "<>:1: SyntaxWarning: invalid escape sequence '\\s'\n",
      "<>:1: SyntaxWarning: invalid escape sequence '\\s'\n",
      "C:\\Users\\afons\\AppData\\Local\\Temp\\ipykernel_44632\\1709852540.py:1: SyntaxWarning: invalid escape sequence '\\s'\n",
      "  df = pd.read_pickle('data\\salling_data.pkl')\n"
     ]
    },
    {
     "data": {
      "text/html": [
       "<div>\n",
       "<style scoped>\n",
       "    .dataframe tbody tr th:only-of-type {\n",
       "        vertical-align: middle;\n",
       "    }\n",
       "\n",
       "    .dataframe tbody tr th {\n",
       "        vertical-align: top;\n",
       "    }\n",
       "\n",
       "    .dataframe thead th {\n",
       "        text-align: right;\n",
       "    }\n",
       "</style>\n",
       "<table border=\"1\" class=\"dataframe\">\n",
       "  <thead>\n",
       "    <tr style=\"text-align: right;\">\n",
       "      <th></th>\n",
       "      <th>cluster_id</th>\n",
       "      <th>Store id</th>\n",
       "      <th>Store Name</th>\n",
       "      <th>Store Address</th>\n",
       "      <th>Store City</th>\n",
       "      <th>Store Zip</th>\n",
       "      <th>Store Brand</th>\n",
       "      <th>Description</th>\n",
       "      <th>EAN</th>\n",
       "      <th>Categories (da)</th>\n",
       "      <th>...</th>\n",
       "      <th>New Price</th>\n",
       "      <th>Discount</th>\n",
       "      <th>Percent Discount</th>\n",
       "      <th>Start Time</th>\n",
       "      <th>End Time</th>\n",
       "      <th>Stock</th>\n",
       "      <th>Stock Unit</th>\n",
       "      <th>Cleaned Ingredients</th>\n",
       "      <th>Discount Bins</th>\n",
       "      <th>Start Date</th>\n",
       "    </tr>\n",
       "  </thead>\n",
       "  <tbody>\n",
       "    <tr>\n",
       "      <th>0</th>\n",
       "      <td>0</td>\n",
       "      <td>efba0457-090e-4132-81ba-c72b4c8e7fee</td>\n",
       "      <td>Bilka Tilst</td>\n",
       "      <td>Agerøvej 7</td>\n",
       "      <td>Tilst</td>\n",
       "      <td>8381</td>\n",
       "      <td>bilka</td>\n",
       "      <td>BACON PØLSEMAGERI</td>\n",
       "      <td>250261</td>\n",
       "      <td>Mejeri &amp; køl&gt;Færdigretter&gt;Middagsretter</td>\n",
       "      <td>...</td>\n",
       "      <td>99.00</td>\n",
       "      <td>36.00</td>\n",
       "      <td>26.67</td>\n",
       "      <td>2024-11-25 11:18:38+00:00</td>\n",
       "      <td>2024-12-06 22:59:59+00:00</td>\n",
       "      <td>6.154</td>\n",
       "      <td>kg</td>\n",
       "      <td>dinner meal</td>\n",
       "      <td>(25, 50]</td>\n",
       "      <td>2024-11-25</td>\n",
       "    </tr>\n",
       "    <tr>\n",
       "      <th>1</th>\n",
       "      <td>0</td>\n",
       "      <td>efba0457-090e-4132-81ba-c72b4c8e7fee</td>\n",
       "      <td>Bilka Tilst</td>\n",
       "      <td>Agerøvej 7</td>\n",
       "      <td>Tilst</td>\n",
       "      <td>8381</td>\n",
       "      <td>bilka</td>\n",
       "      <td>GRILLKOTELETTER SLAGTEREN</td>\n",
       "      <td>250999</td>\n",
       "      <td>Kød &amp; fisk&gt;Grisekød&gt;Koteletter, flæsk &amp; schnit...</td>\n",
       "      <td>...</td>\n",
       "      <td>63.95</td>\n",
       "      <td>71.05</td>\n",
       "      <td>52.63</td>\n",
       "      <td>2024-12-01 10:30:25+00:00</td>\n",
       "      <td>2024-12-02 22:59:59+00:00</td>\n",
       "      <td>2.554</td>\n",
       "      <td>kg</td>\n",
       "      <td>pork chop pork schnitzel</td>\n",
       "      <td>(50, 75]</td>\n",
       "      <td>2024-12-01</td>\n",
       "    </tr>\n",
       "    <tr>\n",
       "      <th>2</th>\n",
       "      <td>0</td>\n",
       "      <td>efba0457-090e-4132-81ba-c72b4c8e7fee</td>\n",
       "      <td>Bilka Tilst</td>\n",
       "      <td>Agerøvej 7</td>\n",
       "      <td>Tilst</td>\n",
       "      <td>8381</td>\n",
       "      <td>bilka</td>\n",
       "      <td>PAPRIKA FILET GODT BEGYNDT</td>\n",
       "      <td>251073</td>\n",
       "      <td>Mejeri &amp; køl&gt;Færdigretter&gt;Middagsretter</td>\n",
       "      <td>...</td>\n",
       "      <td>34.95</td>\n",
       "      <td>24.05</td>\n",
       "      <td>40.76</td>\n",
       "      <td>2024-12-01 16:02:25+00:00</td>\n",
       "      <td>2024-12-02 22:59:59+00:00</td>\n",
       "      <td>3.404</td>\n",
       "      <td>kg</td>\n",
       "      <td>dinner meal</td>\n",
       "      <td>(25, 50]</td>\n",
       "      <td>2024-12-01</td>\n",
       "    </tr>\n",
       "    <tr>\n",
       "      <th>3</th>\n",
       "      <td>0</td>\n",
       "      <td>efba0457-090e-4132-81ba-c72b4c8e7fee</td>\n",
       "      <td>Bilka Tilst</td>\n",
       "      <td>Agerøvej 7</td>\n",
       "      <td>Tilst</td>\n",
       "      <td>8381</td>\n",
       "      <td>bilka</td>\n",
       "      <td>MØRBRADGRYDE GODT BEGYNDT</td>\n",
       "      <td>251076</td>\n",
       "      <td>Mejeri &amp; køl&gt;Færdigretter&gt;Middagsretter</td>\n",
       "      <td>...</td>\n",
       "      <td>34.95</td>\n",
       "      <td>24.05</td>\n",
       "      <td>40.76</td>\n",
       "      <td>2024-12-01 16:02:00+00:00</td>\n",
       "      <td>2024-12-02 22:59:59+00:00</td>\n",
       "      <td>2.554</td>\n",
       "      <td>kg</td>\n",
       "      <td>dinner meal</td>\n",
       "      <td>(25, 50]</td>\n",
       "      <td>2024-12-01</td>\n",
       "    </tr>\n",
       "    <tr>\n",
       "      <th>4</th>\n",
       "      <td>0</td>\n",
       "      <td>efba0457-090e-4132-81ba-c72b4c8e7fee</td>\n",
       "      <td>Bilka Tilst</td>\n",
       "      <td>Agerøvej 7</td>\n",
       "      <td>Tilst</td>\n",
       "      <td>8381</td>\n",
       "      <td>bilka</td>\n",
       "      <td>SYLTEPAKKE SLAGTEREN</td>\n",
       "      <td>251265</td>\n",
       "      <td>Kød &amp; fisk&gt;Grisekød&gt;Andet grisekød</td>\n",
       "      <td>...</td>\n",
       "      <td>53.95</td>\n",
       "      <td>35.05</td>\n",
       "      <td>39.38</td>\n",
       "      <td>2024-12-01 10:19:14+00:00</td>\n",
       "      <td>2024-12-02 22:59:59+00:00</td>\n",
       "      <td>2.554</td>\n",
       "      <td>kg</td>\n",
       "      <td>pork</td>\n",
       "      <td>(25, 50]</td>\n",
       "      <td>2024-12-01</td>\n",
       "    </tr>\n",
       "  </tbody>\n",
       "</table>\n",
       "<p>5 rows × 28 columns</p>\n",
       "</div>"
      ],
      "text/plain": [
       "   cluster_id                              Store id   Store Name  \\\n",
       "0           0  efba0457-090e-4132-81ba-c72b4c8e7fee  Bilka Tilst   \n",
       "1           0  efba0457-090e-4132-81ba-c72b4c8e7fee  Bilka Tilst   \n",
       "2           0  efba0457-090e-4132-81ba-c72b4c8e7fee  Bilka Tilst   \n",
       "3           0  efba0457-090e-4132-81ba-c72b4c8e7fee  Bilka Tilst   \n",
       "4           0  efba0457-090e-4132-81ba-c72b4c8e7fee  Bilka Tilst   \n",
       "\n",
       "  Store Address Store City Store Zip Store Brand                 Description  \\\n",
       "0    Agerøvej 7      Tilst      8381       bilka           BACON PØLSEMAGERI   \n",
       "1    Agerøvej 7      Tilst      8381       bilka   GRILLKOTELETTER SLAGTEREN   \n",
       "2    Agerøvej 7      Tilst      8381       bilka  PAPRIKA FILET GODT BEGYNDT   \n",
       "3    Agerøvej 7      Tilst      8381       bilka   MØRBRADGRYDE GODT BEGYNDT   \n",
       "4    Agerøvej 7      Tilst      8381       bilka        SYLTEPAKKE SLAGTEREN   \n",
       "\n",
       "      EAN                                    Categories (da)  ... New Price  \\\n",
       "0  250261            Mejeri & køl>Færdigretter>Middagsretter  ...     99.00   \n",
       "1  250999  Kød & fisk>Grisekød>Koteletter, flæsk & schnit...  ...     63.95   \n",
       "2  251073            Mejeri & køl>Færdigretter>Middagsretter  ...     34.95   \n",
       "3  251076            Mejeri & køl>Færdigretter>Middagsretter  ...     34.95   \n",
       "4  251265                 Kød & fisk>Grisekød>Andet grisekød  ...     53.95   \n",
       "\n",
       "  Discount Percent Discount                Start Time  \\\n",
       "0    36.00            26.67 2024-11-25 11:18:38+00:00   \n",
       "1    71.05            52.63 2024-12-01 10:30:25+00:00   \n",
       "2    24.05            40.76 2024-12-01 16:02:25+00:00   \n",
       "3    24.05            40.76 2024-12-01 16:02:00+00:00   \n",
       "4    35.05            39.38 2024-12-01 10:19:14+00:00   \n",
       "\n",
       "                   End Time  Stock Stock Unit       Cleaned Ingredients  \\\n",
       "0 2024-12-06 22:59:59+00:00  6.154         kg               dinner meal   \n",
       "1 2024-12-02 22:59:59+00:00  2.554         kg  pork chop pork schnitzel   \n",
       "2 2024-12-02 22:59:59+00:00  3.404         kg               dinner meal   \n",
       "3 2024-12-02 22:59:59+00:00  2.554         kg               dinner meal   \n",
       "4 2024-12-02 22:59:59+00:00  2.554         kg                      pork   \n",
       "\n",
       "   Discount Bins  Start Date  \n",
       "0       (25, 50]  2024-11-25  \n",
       "1       (50, 75]  2024-12-01  \n",
       "2       (25, 50]  2024-12-01  \n",
       "3       (25, 50]  2024-12-01  \n",
       "4       (25, 50]  2024-12-01  \n",
       "\n",
       "[5 rows x 28 columns]"
      ]
     },
     "execution_count": 2,
     "metadata": {},
     "output_type": "execute_result"
    }
   ],
   "source": [
    "df = pd.read_pickle('data\\salling_data.pkl')\n",
    "\n",
    "df.head()"
   ]
  },
  {
   "cell_type": "code",
   "execution_count": 3,
   "metadata": {},
   "outputs": [
    {
     "data": {
      "text/plain": [
       "Index(['cluster_id', 'Store id', 'Store Name', 'Store Address', 'Store City',\n",
       "       'Store Zip', 'Store Brand', 'Description', 'EAN', 'Categories (da)',\n",
       "       'Categories (en)', 'Category 1', 'Category 2', 'Category 3',\n",
       "       'Category 4', 'Image', 'Currency', 'Original Price', 'New Price',\n",
       "       'Discount', 'Percent Discount', 'Start Time', 'End Time', 'Stock',\n",
       "       'Stock Unit', 'Cleaned Ingredients', 'Discount Bins', 'Start Date'],\n",
       "      dtype='object')"
      ]
     },
     "execution_count": 3,
     "metadata": {},
     "output_type": "execute_result"
    }
   ],
   "source": [
    "df.columns"
   ]
  },
  {
   "cell_type": "code",
   "execution_count": 4,
   "metadata": {},
   "outputs": [
    {
     "data": {
      "text/html": [
       "<div>\n",
       "<style scoped>\n",
       "    .dataframe tbody tr th:only-of-type {\n",
       "        vertical-align: middle;\n",
       "    }\n",
       "\n",
       "    .dataframe tbody tr th {\n",
       "        vertical-align: top;\n",
       "    }\n",
       "\n",
       "    .dataframe thead th {\n",
       "        text-align: right;\n",
       "    }\n",
       "</style>\n",
       "<table border=\"1\" class=\"dataframe\">\n",
       "  <thead>\n",
       "    <tr style=\"text-align: right;\">\n",
       "      <th></th>\n",
       "      <th>id</th>\n",
       "      <th>source</th>\n",
       "      <th>link</th>\n",
       "      <th>title</th>\n",
       "      <th>description</th>\n",
       "    </tr>\n",
       "  </thead>\n",
       "  <tbody>\n",
       "    <tr>\n",
       "      <th>0</th>\n",
       "      <td>1</td>\n",
       "      <td>bbc</td>\n",
       "      <td>https://www.bbc.co.uk/food/recipes/chicken_and...</td>\n",
       "      <td>Chicken and tomato pasta</td>\n",
       "      <td>olive oil</td>\n",
       "    </tr>\n",
       "    <tr>\n",
       "      <th>1</th>\n",
       "      <td>1</td>\n",
       "      <td>bbc</td>\n",
       "      <td>https://www.bbc.co.uk/food/recipes/chicken_and...</td>\n",
       "      <td>Chicken and tomato pasta</td>\n",
       "      <td>chicken breast</td>\n",
       "    </tr>\n",
       "    <tr>\n",
       "      <th>2</th>\n",
       "      <td>1</td>\n",
       "      <td>bbc</td>\n",
       "      <td>https://www.bbc.co.uk/food/recipes/chicken_and...</td>\n",
       "      <td>Chicken and tomato pasta</td>\n",
       "      <td>butter</td>\n",
       "    </tr>\n",
       "    <tr>\n",
       "      <th>3</th>\n",
       "      <td>1</td>\n",
       "      <td>bbc</td>\n",
       "      <td>https://www.bbc.co.uk/food/recipes/chicken_and...</td>\n",
       "      <td>Chicken and tomato pasta</td>\n",
       "      <td>garlic</td>\n",
       "    </tr>\n",
       "    <tr>\n",
       "      <th>4</th>\n",
       "      <td>1</td>\n",
       "      <td>bbc</td>\n",
       "      <td>https://www.bbc.co.uk/food/recipes/chicken_and...</td>\n",
       "      <td>Chicken and tomato pasta</td>\n",
       "      <td>rosemary</td>\n",
       "    </tr>\n",
       "  </tbody>\n",
       "</table>\n",
       "</div>"
      ],
      "text/plain": [
       "   id source                                               link  \\\n",
       "0   1    bbc  https://www.bbc.co.uk/food/recipes/chicken_and...   \n",
       "1   1    bbc  https://www.bbc.co.uk/food/recipes/chicken_and...   \n",
       "2   1    bbc  https://www.bbc.co.uk/food/recipes/chicken_and...   \n",
       "3   1    bbc  https://www.bbc.co.uk/food/recipes/chicken_and...   \n",
       "4   1    bbc  https://www.bbc.co.uk/food/recipes/chicken_and...   \n",
       "\n",
       "                      title     description  \n",
       "0  Chicken and tomato pasta       olive oil  \n",
       "1  Chicken and tomato pasta  chicken breast  \n",
       "2  Chicken and tomato pasta          butter  \n",
       "3  Chicken and tomato pasta          garlic  \n",
       "4  Chicken and tomato pasta        rosemary  "
      ]
     },
     "execution_count": 4,
     "metadata": {},
     "output_type": "execute_result"
    }
   ],
   "source": [
    "recipes_df = pd.read_csv(\"data/recipes_data.csv\")\n",
    "recipes_df.head()"
   ]
  },
  {
   "cell_type": "markdown",
   "metadata": {},
   "source": [
    "To better fit our needs for this part, we restructured the recipes DataFrame. Specifically, we renamed the description column to **product_list** after grouping all products by the recipe id. Since the recipe title is consistent for each id, we easily extracted it during the grouping process. This reorganization ensures clarity and improves usability for subsequent analysis and recommendations."
   ]
  },
  {
   "cell_type": "code",
   "execution_count": 5,
   "metadata": {},
   "outputs": [
    {
     "data": {
      "text/html": [
       "<div>\n",
       "<style scoped>\n",
       "    .dataframe tbody tr th:only-of-type {\n",
       "        vertical-align: middle;\n",
       "    }\n",
       "\n",
       "    .dataframe tbody tr th {\n",
       "        vertical-align: top;\n",
       "    }\n",
       "\n",
       "    .dataframe thead th {\n",
       "        text-align: right;\n",
       "    }\n",
       "</style>\n",
       "<table border=\"1\" class=\"dataframe\">\n",
       "  <thead>\n",
       "    <tr style=\"text-align: right;\">\n",
       "      <th></th>\n",
       "      <th>id</th>\n",
       "      <th>product_list</th>\n",
       "      <th>title</th>\n",
       "    </tr>\n",
       "  </thead>\n",
       "  <tbody>\n",
       "    <tr>\n",
       "      <th>0</th>\n",
       "      <td>1</td>\n",
       "      <td>[olive oil, chicken breast, butter, garlic, ro...</td>\n",
       "      <td>Chicken and tomato pasta</td>\n",
       "    </tr>\n",
       "    <tr>\n",
       "      <th>1</th>\n",
       "      <td>2</td>\n",
       "      <td>[pea, garlic, basil, pine nut, parmesan, olive...</td>\n",
       "      <td>Pea-sto pasta</td>\n",
       "    </tr>\n",
       "    <tr>\n",
       "      <th>2</th>\n",
       "      <td>3</td>\n",
       "      <td>[penne, butter, olive oil, leek, spring onion,...</td>\n",
       "      <td>Salmon pasta</td>\n",
       "    </tr>\n",
       "    <tr>\n",
       "      <th>3</th>\n",
       "      <td>4</td>\n",
       "      <td>[hake, fennel, garlic, chilli, cherry tomato, ...</td>\n",
       "      <td>Acqua pazza with hake, fennel and tomatoes</td>\n",
       "    </tr>\n",
       "    <tr>\n",
       "      <th>4</th>\n",
       "      <td>5</td>\n",
       "      <td>[onion, carrot, olive oil, tomato, bay leaf, c...</td>\n",
       "      <td>Adaptable bean soup</td>\n",
       "    </tr>\n",
       "  </tbody>\n",
       "</table>\n",
       "</div>"
      ],
      "text/plain": [
       "   id                                       product_list  \\\n",
       "0   1  [olive oil, chicken breast, butter, garlic, ro...   \n",
       "1   2  [pea, garlic, basil, pine nut, parmesan, olive...   \n",
       "2   3  [penne, butter, olive oil, leek, spring onion,...   \n",
       "3   4  [hake, fennel, garlic, chilli, cherry tomato, ...   \n",
       "4   5  [onion, carrot, olive oil, tomato, bay leaf, c...   \n",
       "\n",
       "                                        title  \n",
       "0                    Chicken and tomato pasta  \n",
       "1                               Pea-sto pasta  \n",
       "2                                Salmon pasta  \n",
       "3  Acqua pazza with hake, fennel and tomatoes  \n",
       "4                         Adaptable bean soup  "
      ]
     },
     "execution_count": 5,
     "metadata": {},
     "output_type": "execute_result"
    }
   ],
   "source": [
    "recipes_reworked_df = recipes_df.groupby(\"id\").agg({\n",
    "    \"description\": list, \n",
    "    \"title\": \"first\"  \n",
    "}).reset_index()\n",
    "\n",
    "\n",
    "recipes_reworked_df.rename(columns={\"description\": \"product_list\"}, inplace=True)\n",
    "\n",
    "recipes_reworked_df.head()"
   ]
  },
  {
   "cell_type": "markdown",
   "metadata": {},
   "source": [
    "Similarly to the previous situation, to streamline the process and facilitate the matching between expired products and recipes, we renamed the column containing the products to **product_list**. Additionally, we grouped the data by cluster_id, allowing for easier filtering and analysis in subsequent steps."
   ]
  },
  {
   "cell_type": "code",
   "execution_count": 6,
   "metadata": {},
   "outputs": [
    {
     "data": {
      "text/html": [
       "<div>\n",
       "<style scoped>\n",
       "    .dataframe tbody tr th:only-of-type {\n",
       "        vertical-align: middle;\n",
       "    }\n",
       "\n",
       "    .dataframe tbody tr th {\n",
       "        vertical-align: top;\n",
       "    }\n",
       "\n",
       "    .dataframe thead th {\n",
       "        text-align: right;\n",
       "    }\n",
       "</style>\n",
       "<table border=\"1\" class=\"dataframe\">\n",
       "  <thead>\n",
       "    <tr style=\"text-align: right;\">\n",
       "      <th></th>\n",
       "      <th>cluster_id</th>\n",
       "      <th>product_list</th>\n",
       "    </tr>\n",
       "  </thead>\n",
       "  <tbody>\n",
       "    <tr>\n",
       "      <th>0</th>\n",
       "      <td>0</td>\n",
       "      <td>[dinner meal, pork chop pork schnitzel, dinner...</td>\n",
       "    </tr>\n",
       "    <tr>\n",
       "      <th>1</th>\n",
       "      <td>1</td>\n",
       "      <td>[pork tenderloin, thick sausage, pork, dinner ...</td>\n",
       "    </tr>\n",
       "    <tr>\n",
       "      <th>2</th>\n",
       "      <td>2</td>\n",
       "      <td>[pork, pork, pork chop pork schnitzel, pork, p...</td>\n",
       "    </tr>\n",
       "    <tr>\n",
       "      <th>3</th>\n",
       "      <td>3</td>\n",
       "      <td>[dinner meal, thick sausage, dinner meal, pork...</td>\n",
       "    </tr>\n",
       "    <tr>\n",
       "      <th>4</th>\n",
       "      <td>4</td>\n",
       "      <td>[dinner meal, pork, pork, dinner meal, pork, p...</td>\n",
       "    </tr>\n",
       "  </tbody>\n",
       "</table>\n",
       "</div>"
      ],
      "text/plain": [
       "   cluster_id                                       product_list\n",
       "0           0  [dinner meal, pork chop pork schnitzel, dinner...\n",
       "1           1  [pork tenderloin, thick sausage, pork, dinner ...\n",
       "2           2  [pork, pork, pork chop pork schnitzel, pork, p...\n",
       "3           3  [dinner meal, thick sausage, dinner meal, pork...\n",
       "4           4  [dinner meal, pork, pork, dinner meal, pork, p..."
      ]
     },
     "execution_count": 6,
     "metadata": {},
     "output_type": "execute_result"
    }
   ],
   "source": [
    "grouped_products_df = df.groupby(\"cluster_id\")[\"Cleaned Ingredients\"].apply(list).reset_index()\n",
    "\n",
    "# Rename columns for clarity\n",
    "grouped_products_df.rename(columns={\"Cleaned Ingredients\": \"product_list\"}, inplace=True)\n",
    "\n",
    "grouped_products_df.head()"
   ]
  },
  {
   "cell_type": "markdown",
   "metadata": {},
   "source": [
    "## Cleaning the product list"
   ]
  },
  {
   "cell_type": "markdown",
   "metadata": {},
   "source": [
    "One of the main challenges we encountered during the matching process was the significant mismatch between items from the recipes (which were more directly retrieved from the API) and the items from the clustered products. This mismatch was a result of the extensive data transformation processes, including changes, merges, joins, and even translations.\n",
    "\n",
    "Additionally, the clustered product data contained what we deemed to be a considerable amount of noise, such as duplicates, plural forms, and other slight variations. These inconsistencies made the matching process more complex and required additional data cleaning and standardization efforts to improve compatibility."
   ]
  },
  {
   "cell_type": "code",
   "execution_count": 7,
   "metadata": {},
   "outputs": [
    {
     "data": {
      "text/plain": [
       "\"\\nnltk.download('stopwords')\\nnltk.download('wordnet')\\n\""
      ]
     },
     "execution_count": 7,
     "metadata": {},
     "output_type": "execute_result"
    }
   ],
   "source": [
    "'''\n",
    "nltk.download('stopwords')\n",
    "nltk.download('wordnet')\n",
    "'''"
   ]
  },
  {
   "cell_type": "markdown",
   "metadata": {},
   "source": [
    "To address these challenges, we utilized the NLTK package, a tool commonly used in natural language processing tasks, to standardize our products. This involved several steps: removing duplicates, eliminating unnecessary words, converting text to lowercase, removing special characters, and lemmatizing the words to reduce them to their base form. These transformations significantly improved consistency and made matching products between datasets more efficient and accurate"
   ]
  },
  {
   "cell_type": "code",
   "execution_count": 8,
   "metadata": {},
   "outputs": [
    {
     "name": "stderr",
     "output_type": "stream",
     "text": [
      "<>:1: SyntaxWarning: invalid escape sequence '\\w'\n",
      "<>:1: SyntaxWarning: invalid escape sequence '\\w'\n",
      "C:\\Users\\afons\\AppData\\Local\\Temp\\ipykernel_44632\\2041850108.py:1: SyntaxWarning: invalid escape sequence '\\w'\n",
      "  '''\n"
     ]
    },
    {
     "data": {
      "text/plain": [
       "'\\ndef general_standardize_ingredients(product_list):\\n    if not isinstance(product_list, list):\\n        return []\\n    product_list = list(set(product_list))\\n\\n    standardized_list = []\\n    for ingredient in product_list:\\n        if pd.isna(ingredient):\\n            continue\\n\\n        ingredient = ingredient.lower()\\n\\n        ingredient = re.sub(r\"[^\\\\w\\\\s]\", \"\", ingredient)\\n        ingredient = re.sub(r\"\\\\d+\", \"\", ingredient)\\n        ingredient = ingredient.strip()\\n\\n        tokens = ingredient.split()\\n        tokens = [word for word in tokens if word not in stop_words]\\n\\n        tokens = [lemmatizer.lemmatize(token) for token in tokens]\\n\\n        clean_ingredient = \" \".join(tokens)\\n\\n        if clean_ingredient:\\n            standardized_list.append(clean_ingredient)\\n\\n    return sorted(set(standardized_list))\\n\\n'"
      ]
     },
     "execution_count": 8,
     "metadata": {},
     "output_type": "execute_result"
    }
   ],
   "source": [
    "'''\n",
    "def general_standardize_ingredients(product_list):\n",
    "    if not isinstance(product_list, list):\n",
    "        return []\n",
    "    product_list = list(set(product_list))\n",
    "\n",
    "    standardized_list = []\n",
    "    for ingredient in product_list:\n",
    "        if pd.isna(ingredient):\n",
    "            continue\n",
    "\n",
    "        ingredient = ingredient.lower()\n",
    "\n",
    "        ingredient = re.sub(r\"[^\\w\\s]\", \"\", ingredient)\n",
    "        ingredient = re.sub(r\"\\d+\", \"\", ingredient)\n",
    "        ingredient = ingredient.strip()\n",
    "\n",
    "        tokens = ingredient.split()\n",
    "        tokens = [word for word in tokens if word not in stop_words]\n",
    "\n",
    "        tokens = [lemmatizer.lemmatize(token) for token in tokens]\n",
    "\n",
    "        clean_ingredient = \" \".join(tokens)\n",
    "\n",
    "        if clean_ingredient:\n",
    "            standardized_list.append(clean_ingredient)\n",
    "\n",
    "    return sorted(set(standardized_list))\n",
    "\n",
    "'''"
   ]
  },
  {
   "cell_type": "code",
   "execution_count": 9,
   "metadata": {},
   "outputs": [
    {
     "data": {
      "text/plain": [
       "'\\nrecipes_reworked_df[\"product_list\"] = recipes_reworked_df[\"product_list\"].apply(general_standardize_ingredients)\\nrecipes_reworked_df.head()\\n'"
      ]
     },
     "execution_count": 9,
     "metadata": {},
     "output_type": "execute_result"
    }
   ],
   "source": [
    "'''\n",
    "recipes_reworked_df[\"product_list\"] = recipes_reworked_df[\"product_list\"].apply(general_standardize_ingredients)\n",
    "recipes_reworked_df.head()\n",
    "'''\n"
   ]
  },
  {
   "cell_type": "code",
   "execution_count": 10,
   "metadata": {},
   "outputs": [
    {
     "data": {
      "text/plain": [
       "'\\ngrouped_products_df[\"product_list\"] = grouped_products_df[\"product_list\"].apply(general_standardize_ingredients)\\ngrouped_products_df.head()\\n\\n'"
      ]
     },
     "execution_count": 10,
     "metadata": {},
     "output_type": "execute_result"
    }
   ],
   "source": [
    "'''\n",
    "grouped_products_df[\"product_list\"] = grouped_products_df[\"product_list\"].apply(general_standardize_ingredients)\n",
    "grouped_products_df.head()\n",
    "\n",
    "'''\n"
   ]
  },
  {
   "cell_type": "markdown",
   "metadata": {},
   "source": [
    "Prior to standardizing the methodology for cleaning the products, this function was devised as a more straightforward and preliminary approach to cleansing the product list, with the objective of facilitating the identification of more suitable products. However, at a subsequent stage, we opted to implement this step at an earlier phase, more deep, improved and utilizing external packages."
   ]
  },
  {
   "cell_type": "markdown",
   "metadata": {},
   "source": [
    "## Matching Products"
   ]
  },
  {
   "cell_type": "code",
   "execution_count": 11,
   "metadata": {},
   "outputs": [],
   "source": [
    "def match_recipes(grouped_products_df, recipes_reworked_df):\n",
    "    transactions = []\n",
    "    for _, cluster_row in grouped_products_df.iterrows():\n",
    "        cluster_id = cluster_row[\"cluster_id\"]\n",
    "        expired_products = set(cluster_row[\"product_list\"])\n",
    "        \n",
    "        # Find matching recipes\n",
    "        for _, recipe_row in recipes_reworked_df.iterrows():\n",
    "            recipe_ingredients = set(recipe_row[\"product_list\"])\n",
    "            if expired_products & recipe_ingredients:  # Intersection of products\n",
    "                transactions.append(list(recipe_ingredients))\n",
    "    \n",
    "    return transactions"
   ]
  },
  {
   "cell_type": "code",
   "execution_count": 12,
   "metadata": {},
   "outputs": [],
   "source": [
    "\n",
    "transactions = match_recipes(grouped_products_df, recipes_reworked_df)\n",
    "transactions = [[str(item) for item in transaction] for transaction in transactions]"
   ]
  },
  {
   "cell_type": "code",
   "execution_count": 13,
   "metadata": {},
   "outputs": [],
   "source": [
    "# Convert transactions into a one-hot encoded DataFrame\n",
    "te = TransactionEncoder()\n",
    "te_ary = te.fit(transactions).transform(transactions)\n",
    "transaction_df = pd.DataFrame(te_ary, columns=te.columns_)"
   ]
  },
  {
   "cell_type": "markdown",
   "metadata": {},
   "source": [
    "Applying Apriori algorithm to find frequent itemsets and generating rules on a general rule"
   ]
  },
  {
   "cell_type": "code",
   "execution_count": 14,
   "metadata": {},
   "outputs": [
    {
     "name": "stdout",
     "output_type": "stream",
     "text": [
      "     support        itemsets\n",
      "0   0.293246  (black pepper)\n",
      "1   0.610021        (butter)\n",
      "2   0.307114           (egg)\n",
      "3   0.308359        (garlic)\n",
      "4   0.394959          (milk)\n",
      "5   0.256580         (onion)\n",
      "6   0.214332   (plain flour)\n",
      "7   0.381134          (salt)\n",
      "8   0.213774   (butter, egg)\n",
      "9   0.258469  (butter, milk)\n",
      "10  0.240780  (butter, salt)\n"
     ]
    }
   ],
   "source": [
    "\n",
    "frequent_itemsets = apriori(transaction_df, min_support=0.2, use_colnames=True)\n",
    "print(frequent_itemsets)"
   ]
  },
  {
   "cell_type": "code",
   "execution_count": 15,
   "metadata": {},
   "outputs": [
    {
     "name": "stdout",
     "output_type": "stream",
     "text": [
      "  antecedents consequents  antecedent support  consequent support   support  \\\n",
      "0    (butter)       (egg)            0.610021            0.307114  0.213774   \n",
      "1       (egg)    (butter)            0.307114            0.610021  0.213774   \n",
      "2    (butter)      (milk)            0.610021            0.394959  0.258469   \n",
      "3      (milk)    (butter)            0.394959            0.610021  0.258469   \n",
      "4    (butter)      (salt)            0.610021            0.381134  0.240780   \n",
      "5      (salt)    (butter)            0.381134            0.610021  0.240780   \n",
      "\n",
      "   confidence      lift  leverage  conviction  zhangs_metric  \n",
      "0    0.350436  1.141062  0.026427    1.066694       0.316999  \n",
      "1    0.696072  1.141062  0.026427    1.283128       0.178418  \n",
      "2    0.423705  1.072781  0.017535    1.049880       0.173966  \n",
      "3    0.654419  1.072781  0.017535    1.128473       0.112130  \n",
      "4    0.394707  1.035612  0.008280    1.022424       0.088177  \n",
      "5    0.631745  1.035612  0.008280    1.058992       0.055565  \n"
     ]
    }
   ],
   "source": [
    "\n",
    "rules = association_rules(frequent_itemsets, metric=\"lift\", min_threshold=1.0)\n",
    "print(rules)"
   ]
  },
  {
   "cell_type": "code",
   "execution_count": 16,
   "metadata": {},
   "outputs": [],
   "source": [
    "def match_expired_to_recipes(cluster_id, stores_df, recipes_df):\n",
    "    cluster_stores = stores_df[stores_df[\"cluster_id\"] == cluster_id]\n",
    "\n",
    "    expired_products = [\n",
    "        product\n",
    "        for products in cluster_stores[\"product_list\"]\n",
    "        for product in products\n",
    "    ]\n",
    "\n",
    "    common_items = []\n",
    "    for _, recipe_row in recipes_df.iterrows():\n",
    "        recipe_ingredients = recipe_row[\"product_list\"]\n",
    "        common_items.extend([item for item in recipe_ingredients if item in expired_products])\n",
    "\n",
    "    common_items_df = pd.DataFrame(common_items, columns=[\"product\"])\n",
    "    common_counts = common_items_df.value_counts().reset_index()\n",
    "    common_counts.columns = [\"product\", \"count\"]\n",
    "\n",
    "    return common_counts"
   ]
  },
  {
   "cell_type": "code",
   "execution_count": 17,
   "metadata": {},
   "outputs": [],
   "source": [
    "common_items_df = match_expired_to_recipes(1, grouped_products_df, recipes_reworked_df)"
   ]
  },
  {
   "cell_type": "code",
   "execution_count": 18,
   "metadata": {},
   "outputs": [
    {
     "name": "stdout",
     "output_type": "stream",
     "text": [
      "            product  count\n",
      "0              milk    206\n",
      "1            potato     78\n",
      "2           yoghurt     46\n",
      "3      cream cheese     31\n",
      "4            cheese     15\n",
      "5              lamb     11\n",
      "6              beef     10\n",
      "7   pork tenderloin      8\n",
      "8              pork      7\n",
      "9      pork sausage      5\n",
      "10        rye bread      4\n",
      "11          protein      3\n"
     ]
    }
   ],
   "source": [
    "top_common_items = common_items_df.head(15)\n",
    "print(top_common_items)"
   ]
  },
  {
   "cell_type": "code",
   "execution_count": 19,
   "metadata": {},
   "outputs": [
    {
     "data": {
      "image/png": "[encoded data removed]",
      "text/plain": [
       "<Figure size 640x480 with 1 Axes>"
      ]
     },
     "metadata": {},
     "output_type": "display_data"
    }
   ],
   "source": [
    "fig, ax1 = plt.subplots()\n",
    "\n",
    "df_sorted = top_common_items.sort_values(\"count\", ascending=True)\n",
    "\n",
    "plt.barh(df_sorted[\"product\"], df_sorted[\"count\"])\n",
    "plt.xlabel(\"Count\")\n",
    "plt.ylabel(\"Product\")\n",
    "plt.title(\"Product Counts\")\n",
    "plt.show()"
   ]
  },
  {
   "cell_type": "markdown",
   "metadata": {},
   "source": [
    "### Market Based Analysis\n",
    "\n",
    "The Market-Based Analysis function is designed to match the product list from recipes with the about-to-expire items within a cluster. The process is structured as:\n",
    "1. Filter for the Selected Cluster:\n",
    "    - Focus on a specific cluster by isolating its data.\n",
    "2. Retrieve Expired Products for the Cluster:\n",
    "    - Collect all items nearing expiration for the cluster.\n",
    "3. Clean Expired Product Data:\n",
    "    - Address data noise by removing unnecessary or duplicated words, ensuring consistency.\n",
    "4. Standardize Recipe Ingredients:\n",
    "    - Match the cleaned expired products with standardized recipe ingredients for compatibility.\n",
    "5. Filter Relevant Recipes:\n",
    "    - Identify recipes containing at least one ingredient from the expired product list of the cluster.\n",
    "6. Combine Data:\n",
    "    - Merge the expired product list with recipe ingredients to focus on items relevant to the cluster.\n",
    "7. Apply Apriori Algorithm:\n",
    "    - Transform the data (using one-hot encoding) to run the Apriori Algorithm, which identifies frequent itemsets.\n",
    "\n",
    "The analysis reveals the popular items among recipes sold in the cluster. This allows us to, based on recommend recipes that align with the cluster’s expiring inventory, suggest popular bundles for nearby stores to sell while still study the viability of a possible recommendation system and the connectivity of the most popular products."
   ]
  },
  {
   "cell_type": "code",
   "execution_count": 22,
   "metadata": {},
   "outputs": [],
   "source": [
    "def market_based_analysis(cluster_id, expired, recipes, min_support=0.1):\n",
    "    cluster_stores = expired[expired[\"cluster_id\"] == cluster_id]\n",
    "    \n",
    "    cluster_expired_products = []\n",
    "    for product_list in cluster_stores[\"product_list\"]:\n",
    "        cluster_expired_products.extend(product_list)\n",
    "    \n",
    "    cluster_expired_products = sorted(set(cluster_expired_products))\n",
    "    print(cluster_expired_products)\n",
    "    \n",
    "    \n",
    "    relevant_recipes = recipes[recipes[\"product_list\"].apply(\n",
    "        lambda x: any(item in cluster_expired_products for item in x)\n",
    "    )]\n",
    "    \n",
    "    \n",
    "    transactions = []\n",
    "    for product_list in relevant_recipes[\"product_list\"]:\n",
    "        filtered_items = [item for item in product_list if item in cluster_expired_products]\n",
    "        if filtered_items:\n",
    "            transactions.append(filtered_items)\n",
    "\n",
    "    \n",
    "    te = TransactionEncoder()\n",
    "    te_ary = te.fit(transactions).transform(transactions)\n",
    "    transaction_df = pd.DataFrame(te_ary, columns=te.columns_)\n",
    "    \n",
    "    frequent_itemsets = apriori(transaction_df, min_support=min_support, use_colnames=True)\n",
    "    \n",
    "    if frequent_itemsets.empty:\n",
    "        print(\"No frequent itemsets found.\")\n",
    "        return [], []\n",
    "    else:\n",
    "        frequent_itemsets[\"is_in_cluster\"] = frequent_itemsets[\"itemsets\"].apply(\n",
    "            lambda x: all(item in cluster_expired_products for item in x)\n",
    "        )\n",
    "        cluster_itemsets = frequent_itemsets[frequent_itemsets[\"is_in_cluster\"]]\n",
    "        \n",
    "        rules = association_rules(cluster_itemsets, metric=\"lift\", min_threshold=1.0)\n",
    "        \n",
    "        return cluster_itemsets, rules\n",
    "\n"
   ]
  },
  {
   "cell_type": "code",
   "execution_count": 23,
   "metadata": {},
   "outputs": [
    {
     "name": "stdout",
     "output_type": "stream",
     "text": [
      "['attachment', 'bacon', 'beef', 'blue cheese brie', 'buttermilk', 'cheese', 'chicken sausage', 'cold butter milk soup', 'cold coffee drink', 'cold cut', 'cream cheese', 'cream potato', 'dessert snack', 'dinner meal', 'dinner salad', 'dough', 'ham', 'hotdog bun', 'light dark bun', 'liver paste patee', 'lunch meat', 'mayo salad', 'meat ball', 'meat sausage', 'milk', 'mozarella', 'pork', 'pork chop pork schnitzel', 'pork mayo salad', 'pork neck pork loin', 'pork sausage', 'pork veal', 'potato salad', 'poultry mayo salad', 'protein', 'rye bread', 'rye bread carrot', 'saddle pork', 'salami', 'sauce', 'sausage', 'sausage roll', 'skyr', 'sparerib barbecue meat', 'sun flower rye bread', 'thick sausage', 'toast bread', 'whole bread', 'yoghurt']\n",
      "     support                           itemsets  is_in_cluster\n",
      "0   0.120588                            (bacon)           True\n",
      "1   0.026471                             (beef)           True\n",
      "2   0.026471                       (buttermilk)           True\n",
      "3   0.044118                           (cheese)           True\n",
      "4   0.002941                  (chicken sausage)           True\n",
      "5   0.091176                     (cream cheese)           True\n",
      "6   0.035294                              (ham)           True\n",
      "7   0.552941                             (milk)           True\n",
      "8   0.020588                             (pork)           True\n",
      "9   0.014706                     (pork sausage)           True\n",
      "10  0.008824                          (protein)           True\n",
      "11  0.011765                        (rye bread)           True\n",
      "12  0.041176                          (sausage)           True\n",
      "13  0.123529                          (yoghurt)           True\n",
      "14  0.002941                (bacon, buttermilk)           True\n",
      "15  0.002941              (bacon, cream cheese)           True\n",
      "16  0.026471                      (bacon, milk)           True\n",
      "17  0.008824              (bacon, pork sausage)           True\n",
      "18  0.002941                   (bacon, protein)           True\n",
      "19  0.008824                   (bacon, sausage)           True\n",
      "20  0.002941                     (cheese, beef)           True\n",
      "21  0.008824                       (milk, beef)           True\n",
      "22  0.005882                  (rye bread, beef)           True\n",
      "23  0.002941         (buttermilk, cream cheese)           True\n",
      "24  0.002941         (buttermilk, pork sausage)           True\n",
      "25  0.002941             (cream cheese, cheese)           True\n",
      "26  0.002941                     (milk, cheese)           True\n",
      "27  0.008824               (milk, cream cheese)           True\n",
      "28  0.008824                        (ham, milk)           True\n",
      "29  0.002941                       (milk, pork)           True\n",
      "30  0.002941               (milk, pork sausage)           True\n",
      "31  0.023529                    (milk, yoghurt)           True\n",
      "32  0.002941  (bacon, buttermilk, pork sausage)           True\n",
      "33  0.002941        (bacon, milk, cream cheese)           True\n",
      "34  0.002941       (milk, cream cheese, cheese)           True\n"
     ]
    }
   ],
   "source": [
    "cluster_id = 23\n",
    "frequent_itemsets, rules = market_based_analysis(cluster_id, grouped_products_df, recipes_reworked_df, min_support=0.001)\n",
    "\n",
    "print(frequent_itemsets)"
   ]
  },
  {
   "cell_type": "markdown",
   "metadata": {},
   "source": [
    "To showcase diverse recipe possibilities, we created a function that fetches recipes, using frequent itemsets identified by the Apriori Algorithm, and then display the result.\n",
    "\n",
    "This approach bridges the gap between expiring inventory and popular recipes, providing a practical solution to reduce waste and enhance usability for the food bank.\n",
    "\n",
    "There are three parameters that we can and should change in order to get not only the best results but the ones that make the most sense in our context:\n",
    "- The Cluster ID which reflects the food bank that we are investigating.\n",
    "- The Minimum Support for the Frequent Itemsets which we hoped that would be higher (having more matches) however it was proven the contrary\n",
    "- The minium items when fiding the recipes just to filter the recipes since so many recipes depend on one-item sets like milk or butter\n"
   ]
  },
  {
   "cell_type": "code",
   "execution_count": 24,
   "metadata": {},
   "outputs": [],
   "source": [
    "def find_recipes(frequent_itemsets, recipes, min_items=2):\n",
    "    itemsets = frequent_itemsets[\"itemsets\"].tolist()\n",
    "\n",
    "    matching_recipes = []\n",
    "\n",
    "    for itemset in itemsets:\n",
    "        # Filter itemsets based on the minimum number of items\n",
    "        if len(itemset) >= min_items:\n",
    "            matching = recipes[recipes[\"product_list\"].apply(\n",
    "                lambda x: set(itemset).issubset(set(x))\n",
    "            )]\n",
    "\n",
    "            matching_recipes.append({\"itemset\": itemset, \"recipes\": matching})\n",
    "\n",
    "    return matching_recipes\n"
   ]
  },
  {
   "cell_type": "code",
   "execution_count": 25,
   "metadata": {},
   "outputs": [
    {
     "name": "stdout",
     "output_type": "stream",
     "text": [
      "\n",
      "Suggested recipes with: bacon, buttermilk\n",
      "Matching Recipe Titles:\n",
      "- The Ulster fry\n",
      "\n",
      "Suggested recipes with: bacon, cream cheese\n",
      "Matching Recipe Titles:\n",
      "- Waffles with smoked bacon and caramelised peach\n",
      "\n",
      "Suggested recipes with: bacon, milk\n",
      "Matching Recipe Titles:\n",
      "- Bacon and asparagus flan\n",
      "- Quiche Lorraine\n",
      "- Waffles with smoked bacon and caramelised peach\n",
      "- Posh jacket potatoes\n",
      "- One Pan Pasta with Bacon and Peas Recipe\n",
      "- Creamy Cowboy Soup Recipe\n",
      "- Ultimate Twice-Baked Potatoes Recipe\n",
      "- One Pan Pasta with Bacon and Peas Recipe\n",
      "- Creamy Cowboy Soup Recipe\n",
      "\n",
      "Suggested recipes with: bacon, pork sausage\n",
      "Matching Recipe Titles:\n",
      "- Gala picnic pie\n",
      "- Hairy Bikers' sausage casserole\n",
      "- The Ulster fry\n",
      "\n",
      "Suggested recipes with: bacon, protein\n",
      "Matching Recipe Titles:\n",
      "- Leftover Corn Chowder Recipe\n",
      "\n",
      "Suggested recipes with: bacon, sausage\n",
      "Matching Recipe Titles:\n",
      "- Game terrine\n",
      "- Waggoners rice\n",
      "- Tidy Friday pan fry\n",
      "\n",
      "Suggested recipes with: cheese, beef\n",
      "Matching Recipe Titles:\n",
      "- Smash burger\n",
      "\n",
      "Suggested recipes with: milk, beef\n",
      "Matching Recipe Titles:\n",
      "- Yorkshire pudding wrap\n",
      "- Yorkshire puddings with black pudding and beer and onion gravy\n",
      "- Yorkshire puddings with onion gravy\n",
      "\n",
      "Suggested recipes with: rye bread, beef\n",
      "Matching Recipe Titles:\n",
      "- Reuben Sandwich Recipe\n",
      "- Reuben Sandwich Recipe\n",
      "\n",
      "Suggested recipes with: buttermilk, cream cheese\n",
      "Matching Recipe Titles:\n",
      "- Nadiya's red velvet cake\n",
      "\n",
      "Suggested recipes with: buttermilk, pork sausage\n",
      "Matching Recipe Titles:\n",
      "- The Ulster fry\n",
      "\n",
      "Suggested recipes with: cream cheese, cheese\n",
      "Matching Recipe Titles:\n",
      "- Gluten-free creamy chicken and mash pie\n",
      "\n",
      "Suggested recipes with: milk, cheese\n",
      "Matching Recipe Titles:\n",
      "- Gluten-free creamy chicken and mash pie\n",
      "\n",
      "Suggested recipes with: milk, cream cheese\n",
      "Matching Recipe Titles:\n",
      "- Gardener’s brunch\n",
      "- Waffles with smoked bacon and caramelised peach\n",
      "- Gluten-free creamy chicken and mash pie\n",
      "\n",
      "Suggested recipes with: ham, milk\n",
      "Matching Recipe Titles:\n",
      "- Hairy Bikers' creamy chicken, ham and leek pie\n",
      "- Croque madame\n",
      "- Croque monsieur\n",
      "\n",
      "Suggested recipes with: milk, pork\n",
      "Matching Recipe Titles:\n",
      "- Iberico pork cheeks\n",
      "\n",
      "Suggested recipes with: milk, pork sausage\n",
      "Matching Recipe Titles:\n",
      "- Apple Sausage Gravy Dumplings Recipe\n",
      "\n",
      "Suggested recipes with: milk, yoghurt\n",
      "Matching Recipe Titles:\n",
      "- Dal chicken with chilli paneer and naan\n",
      "- Galouti kebabs with sheermal breads\n",
      "- Naan bread\n",
      "- Old Dehli-style butter chicken with naan\n",
      "- Saffron chicken korma with wholemeal paratha\n",
      "- Tahini and honey pancakes\n",
      "- Vanilla and yoghurt panna cotta with pomegranate jelly\n",
      "- Overnight oats\n",
      "\n",
      "Suggested recipes with: bacon, buttermilk, pork sausage\n",
      "Matching Recipe Titles:\n",
      "- The Ulster fry\n",
      "\n",
      "Suggested recipes with: bacon, milk, cream cheese\n",
      "Matching Recipe Titles:\n",
      "- Waffles with smoked bacon and caramelised peach\n",
      "\n",
      "Suggested recipes with: milk, cream cheese, cheese\n",
      "Matching Recipe Titles:\n",
      "- Gluten-free creamy chicken and mash pie\n"
     ]
    }
   ],
   "source": [
    "matching_recipes = find_recipes(frequent_itemsets, recipes_reworked_df, 2)\n",
    "\n",
    "for match in matching_recipes:\n",
    "    itemset = match[\"itemset\"]\n",
    "    recipes_with_itemset = match[\"recipes\"]\n",
    "\n",
    "    print(f\"\\nSuggested recipes with: {', '.join(itemset)}\")\n",
    "    print(\"Matching Recipe Titles:\")\n",
    "    \n",
    "    for title in recipes_with_itemset[\"title\"]:\n",
    "        print(f\"- {title}\")"
   ]
  },
  {
   "cell_type": "markdown",
   "metadata": {},
   "source": [
    "### Getting Popular Bundles"
   ]
  },
  {
   "cell_type": "code",
   "execution_count": null,
   "metadata": {},
   "outputs": [],
   "source": [
    "def suggest_popular_bundles(frequent_itemsets, top_n=5):\n",
    "    two_item_bundles = frequent_itemsets[frequent_itemsets[\"itemsets\"].apply(len) == 2]\n",
    "    top_two_item_bundles = two_item_bundles.nlargest(top_n, \"support\")\n",
    "\n",
    "    other_bundles = frequent_itemsets[frequent_itemsets[\"itemsets\"].apply(len) > 2]\n",
    "    top_other_bundles = other_bundles.nlargest(top_n, \"support\")\n",
    "\n",
    "    popular_bundles = {\n",
    "        \"two_item_bundles\": top_two_item_bundles,\n",
    "        \"three_item_bundles\": top_other_bundles,\n",
    "    }\n",
    "\n",
    "    return popular_bundles"
   ]
  },
  {
   "cell_type": "code",
   "execution_count": null,
   "metadata": {},
   "outputs": [
    {
     "name": "stdout",
     "output_type": "stream",
     "text": [
      "Suggested bundles for stores of cluster 23:\n",
      "\n",
      "Top Two-Item Bundles:\n",
      "     support               itemsets  is_in_cluster\n",
      "28  0.028470        (milk, yoghurt)           True\n",
      "16  0.024911          (milk, bacon)           True\n",
      "17  0.010676  (bacon, pork sausage)           True\n",
      "18  0.010676       (bacon, sausage)           True\n",
      "24  0.010676   (milk, cream cheese)           True\n",
      "\n",
      "Other Suggested Bundles:\n",
      "     support                           itemsets  is_in_cluster\n",
      "29  0.003559  (bacon, buttermilk, pork sausage)           True\n",
      "30  0.003559        (milk, cream cheese, bacon)           True\n",
      "31  0.003559       (milk, cream cheese, cheese)           True\n"
     ]
    }
   ],
   "source": [
    "popular_bundles = suggest_popular_bundles(frequent_itemsets, top_n=5)\n",
    "\n",
    "print(\"Suggested bundles for stores of cluster \" + str(cluster_id) + \":\")\n",
    "\n",
    "print(\"\\nTop Two-Item Bundles:\")\n",
    "print(popular_bundles[\"two_item_bundles\"])\n",
    "\n",
    "print(\"\\nOther Suggested Bundles:\")\n",
    "print(popular_bundles[\"three_item_bundles\"])"
   ]
  },
  {
   "cell_type": "markdown",
   "metadata": {},
   "source": [
    "As illustrated in the preceding section, our methodology yielded intriguing findings. A number of recommended item combinations were identified from nearby stores that could be valuable for stores to create a bundle on. However, due to the limitations of the word data cleaning process, the computer power available to pull every recipe, and the time constraints that precluded further exploration of options, the results were not as comprehensive as those obtained in the initial market-based analysis. It is crucial to acknowledge that due to the constraints of the data set, the support levels are frequently minimal, with the exception of individual items such as butter, milk, bacon, and cheese. To address this challenge, the supported levels for bundles were modified in a manner that was logical within the context of a store, with consideration given to the recipes included."
   ]
  }
 ],
 "metadata": {
  "kernelspec": {
   "display_name": "Python 3",
   "language": "python",
   "name": "python3"
  },
  "language_info": {
   "codemirror_mode": {
    "name": "ipython",
    "version": 3
   },
   "file_extension": ".py",
   "mimetype": "text/x-python",
   "name": "python",
   "nbconvert_exporter": "python",
   "pygments_lexer": "ipython3",
   "version": "3.12.6"
  }
 },
 "nbformat": 4,
 "nbformat_minor": 2
}
